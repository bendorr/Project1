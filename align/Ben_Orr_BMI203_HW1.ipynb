{
 "cells": [
  {
   "cell_type": "code",
   "execution_count": 1,
   "metadata": {},
   "outputs": [],
   "source": [
    "run algs.py"
   ]
  },
  {
   "cell_type": "markdown",
   "metadata": {},
   "source": [
    "Part 1 Questions:\n",
    "\n",
    "1)\n",
    "    a) Parameters required by the algorithm include a scoring matrix, 2 sequences, and gap opening and extension penalties. The variables used by the algorithm include four M x N matrices (where M and N are the lengths of the two input sequences, respectively): one for alignment scores, one for traceback, and two for keeping track of gap extension penalties for each of the sequences.\n",
    "    b) The quantity returned is the sequence alignment score.\n",
    "    c) The run time complexity is O(M x N)\n",
    "    \n",
    "2)\n",
    "    The functionalities shared between the algorithms are: creating 4 different M x N Matrices, getting the alignment score for a given pair of amino acid residues, getting and setting values in the 4 M x N matrices, reading the scoring matrix, reading in the sequences, and calculating gap opening and extension penalties.\n",
    "    \n",
    "3)\n",
    "    Affine-gap alignment differs from linear-gap alignment in that affine-gap requires two extra M x N matrices for keeping track of the gap penalty for a given pair of residues in the two sequences, whereas linear-gap simply uses the same gap penalty for all pairs of residues.\n",
    "    \n",
    "4)\n",
    "    *API in README*"
   ]
  },
  {
   "cell_type": "code",
   "execution_count": 16,
   "metadata": {},
   "outputs": [
    {
     "name": "stdout",
     "output_type": "stream",
     "text": [
      "\"I/O of Protein FAFSA Sequence\" Test Passed\n",
      "\"I/O of Scoring Matrix\" Test Passed\n",
      "\"Identical Sequences\" Test Passed\n"
     ]
    }
   ],
   "source": [
    "######\n",
    "# Unit Tests\n",
    "######\n",
    "fa1 = '../sequences/prot-0004.fa'\n",
    "fa2 = '../sequences/prot-0008.fa'\n",
    "scoringMatrixFile = 'BLOSUM50.mat'\n",
    "gapOpening = 11\n",
    "gapExtension = 3\n",
    "\n",
    "swaTest = SmithWaterman(scoringMatrixFile, fa1, fa2, gapOpening, gapExtension)\n",
    "nwaTest = NeedlemanWunsch(scoringMatrixFile, fa1, fa2, gapOpening, gapExtension)\n",
    "\n",
    "\n",
    "def ioFastaTest(swaTest):\n",
    "    assert swaTest.readFafsaSeq('../sequences/prot-0004.fa') == 'SLEAAQKSNVTSSWAKASAAWGTAGPEFFMALFDAHDDVFAKFSGLFSGAAKGTVKNTPEMAAQAQSFKGLVSNWVDNLDNAGALEGQCKTFAANHKARGISAGQLEAAFKVLSGFMKSYGGDEGAWTAVAGALMGEIEPDM'\n",
    "    print('\"I/O of Protein FAFSA Sequence\" Test Passed')\n",
    "\n",
    "ioFastaTest(swaTest)\n",
    "\n",
    "def ioScoringMatrixTest(swaTest):\n",
    "    testScoringMatrix, testHeader = swaTest.readScoringMatrix('BLOSUM50.mat')\n",
    "    assert testScoringMatrix[0][0] == 5 #how do I avoid truth value of array ValueError?\n",
    "    assert testHeader[0] == 'A'\n",
    "    print('\"I/O of Scoring Matrix\" Test Passed')\n",
    "\n",
    "ioScoringMatrixTest(swaTest)\n",
    "\n",
    "def identicalSequencesTest():\n",
    "    swaTest2 = SmithWaterman(scoringMatrixFile, fa1, fa1, gapOpening, gapExtension)\n",
    "    nwaTest2 = NeedlemanWunsch(scoringMatrixFile, fa1, fa1, gapOpening, gapExtension)\n",
    "    swaTest2.align()\n",
    "    swaTest2.traceback()\n",
    "    nwaTest2.align()\n",
    "    nwaTest2.traceback()\n",
    "    assert swaTest2.alignedSequences[0] == swaTest2.alignedSequences[1]\n",
    "    assert nwaTest2.alignedSequences[0] == nwaTest2.alignedSequences[1]\n",
    "    print('\"Identical Sequences\" Test Passed')\n",
    "\n",
    "identicalSequencesTest()\n",
    "\n",
    "def alignmentScoreTest():\n",
    "    pass"
   ]
  },
  {
   "cell_type": "markdown",
   "metadata": {},
   "source": [
    "---Part 2---"
   ]
  },
  {
   "cell_type": "code",
   "execution_count": 81,
   "metadata": {},
   "outputs": [
    {
     "name": "stdout",
     "output_type": "stream",
     "text": [
      "about to read\n",
      "read files\n",
      "[45, 55, 40, 85, 80, 34, 58, 31, 36, 34, 45, 41, 61, 45, 129, 35, 35, 62, 49, 57, 61, 45, 47, 64, 110, 42, 67, 57, 38, 41, 61, 45, 61, 53, 43, 49, 44, 43, 37, 35, 33, 33, 41, 85, 151, 43, 56, 364, 82, 59, 38, 28, 25, 35, 46, 44, 51, 21, 24, 20, 54, 19, 24, 40, 60, 34, 33, 40, 36, 35, 60, 36, 31, 51, 45, 31, 43, 34, 39, 38, 69, 40, 35, 51, 31, 61, 35, 34, 30, 31, 24, 29, 35, 40, 46, 34, 30, 22, 42, 32]\n"
     ]
    }
   ],
   "source": [
    "####\n",
    "# Question 1\n",
    "####\n",
    "\n",
    "scoringMatrixFile = 'BLOSUM50.mat'\n",
    "gapOpening = 11\n",
    "gapExtension = 3\n",
    "\n",
    "def readPosandNegFiles():\n",
    "    faFilePairs = []\n",
    "    \n",
    "    with open('../scoring_matrices/Pospairs.txt','r') as f:\n",
    "        for line in f:\n",
    "            fa1, fa2 = line.split()\n",
    "            fa1 = '../' + fa1\n",
    "            fa2 = '../' + fa2\n",
    "            faFilePairs.append((fa1, fa2))\n",
    "    f.close()\n",
    "    \n",
    "\n",
    "    with open('../scoring_matrices/Negpairs.txt','r') as f:\n",
    "        for line in f:\n",
    "            fa1, fa2 = line.split()\n",
    "            fa1 = '../' + fa1\n",
    "            fa2 = '../' + fa2\n",
    "            faFilePairs.append((fa1, fa2))\n",
    "    f.close()\n",
    "    \n",
    "    return faFilePairs\n",
    "    \n",
    "\n",
    "def alignAllPosandNegSeqs(faFilePairs, scoringMatrixFile, gapOpening, gapExtension, isNW = False):\n",
    "\n",
    "    allAlignmentScores = []\n",
    "    \n",
    "    for faFilePair in faFilePairs:\n",
    "        fa1, fa2 = faFilePair\n",
    "        if isNW == True:\n",
    "            nwa = NeedlemanWunsch(scoringMatrixFile, fa1, fa2, gapOpening, gapExtension)\n",
    "            nwa.align()\n",
    "            allAlignmentScores.append(nwa.alignmentScore)\n",
    "        else:    \n",
    "            swa = SmithWaterman(scoringMatrixFile, fa1, fa2, gapOpening, gapExtension)\n",
    "            swa.align()\n",
    "            allAlignmentScores.append(swa.alignmentScore)\n",
    "    \n",
    "    return allAlignmentScores\n",
    "\n",
    "faFilePairs = readPosandNegFiles()\n",
    "allAlignmentScores = alignAllPosandNegSeqs(faFilePairs, scoringMatrixFile, gapOpening, gapExtension)"
   ]
  },
  {
   "cell_type": "code",
   "execution_count": 20,
   "metadata": {},
   "outputs": [
    {
     "name": "stdout",
     "output_type": "stream",
     "text": [
      "[45, 55, 40, 85, 80, 34, 58, 31, 36, 34, 45, 41, 61, 45, 129, 35, 35, 62, 49, 57, 61, 45, 47, 64, 110, 42, 67, 57, 38, 41, 61, 45, 61, 53, 43, 49, 44, 43, 37, 35, 33, 33, 41, 85, 151, 43, 56, 364, 82, 59, 38, 28, 25, 35, 46, 44, 51, 21, 24, 20, 54, 19, 24, 40, 60, 34, 33, 40, 36, 35, 60, 36, 31, 51, 45, 31, 43, 34, 39, 38, 69, 40, 35, 51, 31, 61, 35, 34, 30, 31, 24, 29, 35, 40, 46, 34, 30, 22, 42, 32]\n"
     ]
    },
    {
     "data": {
      "image/png": "[encoded data removed]",
      "text/plain": [
       "<Figure size 432x288 with 1 Axes>"
      ]
     },
     "metadata": {
      "needs_background": "light"
     },
     "output_type": "display_data"
    }
   ],
   "source": [
    "print(allAlignmentScores)\n",
    "\n",
    "import matplotlib.pyplot as plt\n",
    "\n",
    "plt.scatter(list(range(0,len(allAlignmentScores))), allAlignmentScores)\n",
    "#plt.ylim(top=150)\n",
    "plt.show()"
   ]
  },
  {
   "cell_type": "markdown",
   "metadata": {},
   "source": [
    "Question 1 continued: I would describe this data as mostly evenly distributed, but with some outliers on only one half of the graph."
   ]
  },
  {
   "cell_type": "code",
   "execution_count": 21,
   "metadata": {},
   "outputs": [
    {
     "name": "stdout",
     "output_type": "stream",
     "text": [
      "Threshold value = 49.13\n"
     ]
    },
    {
     "data": {
      "image/png": "[encoded data removed]",
      "text/plain": [
       "<Figure size 432x288 with 1 Axes>"
      ]
     },
     "metadata": {
      "needs_background": "light"
     },
     "output_type": "display_data"
    }
   ],
   "source": [
    "####\n",
    "# Question 2\n",
    "####\n",
    "\n",
    "def calcThreshold(allAlignmentScores):\n",
    "    threshold = sum(allAlignmentScores) / len(allAlignmentScores)\n",
    "    return threshold\n",
    "\n",
    "def calcConfusionMatrix(threshold, allAlignmentScores):\n",
    "    truePos, falseNeg = 0, 0\n",
    "    for score in allAlignmentScores[:50]:\n",
    "        if score > threshold:\n",
    "            truePos += 1\n",
    "        else:\n",
    "            falseNeg += 1\n",
    "        \n",
    "    trueNeg, falsePos = 0,0\n",
    "    for score in allAlignmentScores[50:]:\n",
    "        if score < threshold:\n",
    "            trueNeg += 1\n",
    "        else:\n",
    "            falsePos += 1\n",
    "    return truePos, falseNeg, falsePos, trueNeg\n",
    "\n",
    "\n",
    "def plotConfusionMatrix(truePos, falseNeg, falsePos, trueNeg):\n",
    "    columnLabels = ['Pred Pos', 'Pred Neg']\n",
    "    rowLabels = ['Actual Pos', 'Actual Neg']\n",
    "    tableVals = [[truePos, falseNeg],[falsePos, trueNeg]] #a list for each row\n",
    "    \n",
    "    plt.table(rowLabels = rowLabels, colLabels = columnLabels, cellText = tableVals, cellLoc = 'center', \\\n",
    "              loc = 'center')\n",
    "    plt.axis('off')\n",
    "    plt.show()\n",
    "    \n",
    "threshold = calcThreshold(allAlignmentScores)\n",
    "print('Threshold value = %.2f' % threshold)\n",
    "truePos, falseNeg, falsePos, trueNeg = calcConfusionMatrix(threshold, allAlignmentScores)\n",
    "plotConfusionMatrix(truePos, falseNeg, falsePos, trueNeg)\n"
   ]
  },
  {
   "cell_type": "markdown",
   "metadata": {},
   "source": [
    "Question 2 Continued: The threshold value is 49.13.  The confusion matrix suggests that the algorithm did a good job of accurately classifying Actual Negatives, but it did a poor job of classifying Actual Positives (in fact, it inaccurately classified MOST of the Actual Positives)."
   ]
  },
  {
   "cell_type": "code",
   "execution_count": 85,
   "metadata": {},
   "outputs": [
    {
     "data": {
      "image/png": "[encoded data removed]",
      "text/plain": [
       "<Figure size 432x288 with 1 Axes>"
      ]
     },
     "metadata": {
      "needs_background": "light"
     },
     "output_type": "display_data"
    }
   ],
   "source": [
    "####\n",
    "# Question 3\n",
    "####\n",
    "\n",
    "#ROC curve is True Pos Rate over False Pos Rate.  Normalize axes.\n",
    "\n",
    "import math\n",
    "\n",
    "def calcPointsInROCCurve(allAlignmentScores):\n",
    "    allTruePos = []\n",
    "    allFalsePos = []\n",
    "\n",
    "    for threshold in range(math.floor(min(allAlignmentScores)), math.floor(max(allAlignmentScores)), \\\n",
    "                           math.floor((max(allAlignmentScores)-min(allAlignmentScores))/100)):\n",
    "        truePos, falseNeg, falsePos, trueNeg = calcConfusionMatrix(threshold, allAlignmentScores)\n",
    "        allTruePos.append(truePos)\n",
    "        allFalsePos.append(falsePos)\n",
    "\n",
    "    allTruePos = np.array(allTruePos)/max(allTruePos)\n",
    "    allFalsePos = np.array(allFalsePos)/max(allFalsePos)\n",
    "\n",
    "    #print(allTruePos)\n",
    "    #print(allFalsePos)\n",
    "    \n",
    "    return allTruePos, allFalsePos\n",
    "    \n",
    "def plotROCCurve(allAlignmentScores, scoringMatrixFile, gapOpening, gapExtension):\n",
    "    allTruePos, allFalsePos = calcPointsInROCCurve(allAlignmentScores)\n",
    "\n",
    "    plt.plot(allFalsePos, allTruePos)\n",
    "    plt.xlabel('False Pos Rate')\n",
    "    plt.ylabel('True Pos Rate')\n",
    "    plt.title('ROC Curve for %s, Gap Opening = %d, Gap Extension = %d' % (scoringMatrixFile, gapOpening, gapExtension))\n",
    "    plt.show()\n",
    "    \n",
    "plotROCCurve(allAlignmentScores, scoringMatrixFile, gapOpening, gapExtension)"
   ]
  },
  {
   "cell_type": "code",
   "execution_count": 56,
   "metadata": {},
   "outputs": [
    {
     "name": "stdout",
     "output_type": "stream",
     "text": [
      "[1.   1.   1.   1.   0.98 0.88 0.78 0.74 0.6  0.54 0.44 0.4  0.36 0.32\n",
      " 0.26 0.2  0.2  0.18 0.18 0.18 0.16 0.14 0.1  0.1  0.08 0.08 0.08 0.08\n",
      " 0.08 0.08 0.08 0.08 0.08 0.08 0.08 0.06 0.06 0.06 0.06 0.06 0.06 0.06\n",
      " 0.06 0.04 0.04 0.04 0.04 0.04 0.04 0.04 0.04 0.02 0.02 0.02 0.02 0.02\n",
      " 0.02 0.02 0.02 0.02 0.02 0.02 0.02 0.02 0.02 0.02 0.02 0.02 0.02 0.02\n",
      " 0.02 0.02 0.02 0.02 0.02 0.02 0.02 0.02 0.02 0.02 0.02 0.02 0.02 0.02\n",
      " 0.02 0.02 0.02 0.02 0.02 0.02 0.02 0.02 0.02 0.02 0.02 0.02 0.02 0.02\n",
      " 0.02 0.02 0.02 0.02 0.02 0.02 0.02 0.02 0.02 0.02 0.02 0.02 0.02 0.02\n",
      " 0.02 0.02 0.02 0.02 0.02 0.02 0.02 0.02 0.02 0.02 0.02 0.02 0.02 0.02\n",
      " 0.02 0.02 0.02 0.02 0.02] [1.   0.94 0.86 0.8  0.68 0.64 0.46 0.32 0.2  0.16 0.16 0.1  0.1  0.08\n",
      " 0.02 0.02 0.02 0.   0.   0.   0.   0.   0.   0.   0.   0.   0.   0.\n",
      " 0.   0.   0.   0.   0.   0.   0.   0.   0.   0.   0.   0.   0.   0.\n",
      " 0.   0.   0.   0.   0.   0.   0.   0.   0.   0.   0.   0.   0.   0.\n",
      " 0.   0.   0.   0.   0.   0.   0.   0.   0.   0.   0.   0.   0.   0.\n",
      " 0.   0.   0.   0.   0.   0.   0.   0.   0.   0.   0.   0.   0.   0.\n",
      " 0.   0.   0.   0.   0.   0.   0.   0.   0.   0.   0.   0.   0.   0.\n",
      " 0.   0.   0.   0.   0.   0.   0.   0.   0.   0.   0.   0.   0.   0.\n",
      " 0.   0.   0.   0.   0.   0.   0.   0.   0.   0.   0.   0.   0.   0.\n",
      " 0.   0.   0.   0.   0.  ]\n",
      "Area Under ROC Curve = 0.768200\n"
     ]
    }
   ],
   "source": [
    "####\n",
    "# Question 4\n",
    "####\n",
    "\n",
    "\n",
    "# Integrate under ROC curve\n",
    "\n",
    "allTruePos, allFalsePos = calcPointsInROCCurve(allAlignmentScores)\n",
    "\n",
    "#dx is the distance in the x-direction between each point on curve (1 / 100 = 0.01)\n",
    "#area = np.trapz(allTruePos, dx = 0.01)\n",
    "\n",
    "#print('Area Under ROC Curve = %.6f' % area)\n",
    "\n",
    "\n",
    "print(allTruePos, allFalsePos)\n",
    "\n",
    "\n",
    "def calcAreaUnderCurve(allTruePos, allFalsePos):\n",
    "    area = 0\n",
    "    for i in range(len(allTruePos)-1):\n",
    "        area += (((allTruePos[i]+allTruePos[i+1])/2) * (allFalsePos[i] - allFalsePos[i+1]))\n",
    "    return area\n",
    "\n",
    "area = calcAreaUnderCurve(allTruePos, allFalsePos)\n",
    "print('Area Under ROC Curve = %.6f' % area)"
   ]
  },
  {
   "cell_type": "markdown",
   "metadata": {},
   "source": [
    "Question 4 continued: The area under the ROC curve (AUROC) is a measure of the performance of the algorithm across all possible classification thresholds.  You cannot confidently assess the performance of the algorithm with this value alone, because the algorithm's performance depends on which threshold is chosen in the end by the modeller."
   ]
  },
  {
   "cell_type": "code",
   "execution_count": 39,
   "metadata": {},
   "outputs": [],
   "source": [
    "####\n",
    "# Question 5\n",
    "####\n",
    "\n",
    "# Range of Gap Opening (1-20) and Extension (1-5) Penalties\n",
    "\n",
    "scoringMatrixFile = 'BLOSUM62.mat'\n",
    "            "
   ]
  },
  {
   "cell_type": "code",
   "execution_count": 27,
   "metadata": {},
   "outputs": [
    {
     "name": "stdout",
     "output_type": "stream",
     "text": [
      "Gap Opening = 1, Gap Extension = 1, Area Under ROC Curve = 0.508500\n",
      "Gap Opening = 1, Gap Extension = 2, Area Under ROC Curve = 0.508500\n",
      "Gap Opening = 1, Gap Extension = 3, Area Under ROC Curve = 0.508500\n",
      "Gap Opening = 1, Gap Extension = 4, Area Under ROC Curve = 0.508500\n",
      "Gap Opening = 1, Gap Extension = 5, Area Under ROC Curve = 0.508500\n",
      "Gap Opening = 2, Gap Extension = 1, Area Under ROC Curve = 0.525700\n",
      "Gap Opening = 2, Gap Extension = 2, Area Under ROC Curve = 0.654700\n",
      "Gap Opening = 2, Gap Extension = 3, Area Under ROC Curve = 0.654700\n",
      "Gap Opening = 2, Gap Extension = 4, Area Under ROC Curve = 0.654700\n",
      "Gap Opening = 2, Gap Extension = 5, Area Under ROC Curve = 0.654700\n",
      "Gap Opening = 3, Gap Extension = 1, Area Under ROC Curve = 0.624500\n",
      "Gap Opening = 3, Gap Extension = 2, Area Under ROC Curve = 0.488900\n",
      "Gap Opening = 3, Gap Extension = 3, Area Under ROC Curve = 0.426100\n",
      "Gap Opening = 3, Gap Extension = 4, Area Under ROC Curve = 0.426100\n",
      "Gap Opening = 3, Gap Extension = 5, Area Under ROC Curve = 0.426100\n",
      "Gap Opening = 4, Gap Extension = 1, Area Under ROC Curve = 0.470900\n",
      "Gap Opening = 4, Gap Extension = 2, Area Under ROC Curve = 0.359700\n",
      "Gap Opening = 4, Gap Extension = 3, Area Under ROC Curve = 0.311900\n",
      "Gap Opening = 4, Gap Extension = 4, Area Under ROC Curve = 0.280700\n",
      "Gap Opening = 4, Gap Extension = 5, Area Under ROC Curve = 0.280700\n",
      "Gap Opening = 5, Gap Extension = 1, Area Under ROC Curve = 0.355300\n",
      "Gap Opening = 5, Gap Extension = 2, Area Under ROC Curve = 0.268300\n",
      "Gap Opening = 5, Gap Extension = 3, Area Under ROC Curve = 0.233500\n",
      "Gap Opening = 5, Gap Extension = 4, Area Under ROC Curve = 0.210300\n",
      "Gap Opening = 5, Gap Extension = 5, Area Under ROC Curve = 0.197500\n",
      "Gap Opening = 6, Gap Extension = 1, Area Under ROC Curve = 0.276500\n",
      "Gap Opening = 6, Gap Extension = 2, Area Under ROC Curve = 0.208100\n",
      "Gap Opening = 6, Gap Extension = 3, Area Under ROC Curve = 0.183500\n",
      "Gap Opening = 6, Gap Extension = 4, Area Under ROC Curve = 0.168100\n",
      "Gap Opening = 6, Gap Extension = 5, Area Under ROC Curve = 0.161500\n",
      "Gap Opening = 7, Gap Extension = 1, Area Under ROC Curve = 0.211100\n",
      "Gap Opening = 7, Gap Extension = 2, Area Under ROC Curve = 0.174100\n",
      "Gap Opening = 7, Gap Extension = 3, Area Under ROC Curve = 0.157100\n",
      "Gap Opening = 7, Gap Extension = 4, Area Under ROC Curve = 0.148300\n",
      "Gap Opening = 7, Gap Extension = 5, Area Under ROC Curve = 0.143300\n",
      "Gap Opening = 8, Gap Extension = 1, Area Under ROC Curve = 0.178700\n",
      "Gap Opening = 8, Gap Extension = 2, Area Under ROC Curve = 0.154300\n",
      "Gap Opening = 8, Gap Extension = 3, Area Under ROC Curve = 0.142100\n",
      "Gap Opening = 8, Gap Extension = 4, Area Under ROC Curve = 0.135700\n",
      "Gap Opening = 8, Gap Extension = 5, Area Under ROC Curve = 0.130900\n",
      "Gap Opening = 9, Gap Extension = 1, Area Under ROC Curve = 0.160300\n",
      "Gap Opening = 9, Gap Extension = 2, Area Under ROC Curve = 0.139700\n",
      "Gap Opening = 9, Gap Extension = 3, Area Under ROC Curve = 0.131500\n",
      "Gap Opening = 9, Gap Extension = 4, Area Under ROC Curve = 0.125700\n",
      "Gap Opening = 9, Gap Extension = 5, Area Under ROC Curve = 0.122300\n",
      "Gap Opening = 10, Gap Extension = 1, Area Under ROC Curve = 0.145100\n",
      "Gap Opening = 10, Gap Extension = 2, Area Under ROC Curve = 0.131100\n",
      "Gap Opening = 10, Gap Extension = 3, Area Under ROC Curve = 0.124900\n",
      "Gap Opening = 10, Gap Extension = 4, Area Under ROC Curve = 0.121500\n",
      "Gap Opening = 10, Gap Extension = 5, Area Under ROC Curve = 0.118500\n",
      "Gap Opening = 11, Gap Extension = 1, Area Under ROC Curve = 0.135500\n",
      "Gap Opening = 11, Gap Extension = 2, Area Under ROC Curve = 0.124700\n",
      "Gap Opening = 11, Gap Extension = 3, Area Under ROC Curve = 0.120300\n",
      "Gap Opening = 11, Gap Extension = 4, Area Under ROC Curve = 0.116500\n",
      "Gap Opening = 11, Gap Extension = 5, Area Under ROC Curve = 0.114500\n",
      "Gap Opening = 12, Gap Extension = 1, Area Under ROC Curve = 0.127900\n",
      "Gap Opening = 12, Gap Extension = 2, Area Under ROC Curve = 0.121500\n",
      "Gap Opening = 12, Gap Extension = 3, Area Under ROC Curve = 0.117300\n",
      "Gap Opening = 12, Gap Extension = 4, Area Under ROC Curve = 0.114700\n",
      "Gap Opening = 12, Gap Extension = 5, Area Under ROC Curve = 0.112700\n",
      "Gap Opening = 13, Gap Extension = 1, Area Under ROC Curve = 0.123100\n",
      "Gap Opening = 13, Gap Extension = 2, Area Under ROC Curve = 0.117900\n",
      "Gap Opening = 13, Gap Extension = 3, Area Under ROC Curve = 0.114900\n",
      "Gap Opening = 13, Gap Extension = 4, Area Under ROC Curve = 0.112100\n",
      "Gap Opening = 13, Gap Extension = 5, Area Under ROC Curve = 0.111100\n",
      "Gap Opening = 14, Gap Extension = 1, Area Under ROC Curve = 0.120500\n",
      "Gap Opening = 14, Gap Extension = 2, Area Under ROC Curve = 0.116300\n",
      "Gap Opening = 14, Gap Extension = 3, Area Under ROC Curve = 0.113100\n",
      "Gap Opening = 14, Gap Extension = 4, Area Under ROC Curve = 0.111100\n",
      "Gap Opening = 14, Gap Extension = 5, Area Under ROC Curve = 0.110100\n",
      "Gap Opening = 15, Gap Extension = 1, Area Under ROC Curve = 0.118100\n",
      "Gap Opening = 15, Gap Extension = 2, Area Under ROC Curve = 0.113900\n",
      "Gap Opening = 15, Gap Extension = 3, Area Under ROC Curve = 0.111700\n",
      "Gap Opening = 15, Gap Extension = 4, Area Under ROC Curve = 0.109700\n",
      "Gap Opening = 15, Gap Extension = 5, Area Under ROC Curve = 0.109300\n",
      "Gap Opening = 16, Gap Extension = 1, Area Under ROC Curve = 0.116100\n",
      "Gap Opening = 16, Gap Extension = 2, Area Under ROC Curve = 0.112700\n",
      "Gap Opening = 16, Gap Extension = 3, Area Under ROC Curve = 0.110500\n",
      "Gap Opening = 16, Gap Extension = 4, Area Under ROC Curve = 0.109100\n",
      "Gap Opening = 16, Gap Extension = 5, Area Under ROC Curve = 0.108500\n",
      "Gap Opening = 17, Gap Extension = 1, Area Under ROC Curve = 0.113900\n",
      "Gap Opening = 17, Gap Extension = 2, Area Under ROC Curve = 0.111300\n",
      "Gap Opening = 17, Gap Extension = 3, Area Under ROC Curve = 0.109300\n",
      "Gap Opening = 17, Gap Extension = 4, Area Under ROC Curve = 0.108100\n",
      "Gap Opening = 17, Gap Extension = 5, Area Under ROC Curve = 0.107700\n",
      "Gap Opening = 18, Gap Extension = 1, Area Under ROC Curve = 0.112900\n",
      "Gap Opening = 18, Gap Extension = 2, Area Under ROC Curve = 0.110500\n",
      "Gap Opening = 18, Gap Extension = 3, Area Under ROC Curve = 0.108500\n",
      "Gap Opening = 18, Gap Extension = 4, Area Under ROC Curve = 0.107500\n",
      "Gap Opening = 18, Gap Extension = 5, Area Under ROC Curve = 0.106900\n",
      "Gap Opening = 19, Gap Extension = 1, Area Under ROC Curve = 0.111700\n",
      "Gap Opening = 19, Gap Extension = 2, Area Under ROC Curve = 0.109500\n",
      "Gap Opening = 19, Gap Extension = 3, Area Under ROC Curve = 0.107500\n",
      "Gap Opening = 19, Gap Extension = 4, Area Under ROC Curve = 0.106700\n",
      "Gap Opening = 19, Gap Extension = 5, Area Under ROC Curve = 0.106300\n",
      "Gap Opening = 20, Gap Extension = 1, Area Under ROC Curve = 0.111100\n",
      "Gap Opening = 20, Gap Extension = 2, Area Under ROC Curve = 0.108900\n",
      "Gap Opening = 20, Gap Extension = 3, Area Under ROC Curve = 0.107100\n",
      "Gap Opening = 20, Gap Extension = 4, Area Under ROC Curve = 0.106700\n",
      "Gap Opening = 20, Gap Extension = 5, Area Under ROC Curve = 0.106100\n"
     ]
    }
   ],
   "source": [
    "maxAreaStats = (0,0,0) #area, opening, extension\n",
    "faFilePairs = readPosandNegFiles()\n",
    "for gapOpening in range(1,21):\n",
    "    for gapExtension in range(1,6):\n",
    "        allAlignmentScores = alignAllPosandNegSeqs(faFilePairs, scoringMatrixFile, gapOpening, gapExtension)\n",
    "        #plotROCCurve(allAlignmentScores, scoringMatrixFile, gapOpening, gapExtension)\n",
    "        allTruePos, allFalsePos = calcPointsInROCCurve(allAlignmentScores)\n",
    "        area = np.trapz(allTruePos, dx = 0.01)\n",
    "        print('Gap Opening = %d, Gap Extension = %d, Area Under ROC Curve = %.6f' % (gapOpening, gapExtension, area))\n",
    "        if area > maxAreaStats[0]:\n",
    "            maxAreaStats = area, gapOpening, gapExtension\n",
    "        "
   ]
  },
  {
   "cell_type": "code",
   "execution_count": 28,
   "metadata": {},
   "outputs": [
    {
     "name": "stdout",
     "output_type": "stream",
     "text": [
      "Max Area = 0.65470, Gap Opening = 2, Gap Extension = 2\n"
     ]
    }
   ],
   "source": [
    "print('Max Area = %.5f, Gap Opening = %d, Gap Extension = %d' % (maxAreaStats[0], maxAreaStats[1], maxAreaStats[2]))"
   ]
  },
  {
   "cell_type": "code",
   "execution_count": 35,
   "metadata": {},
   "outputs": [
    {
     "name": "stdout",
     "output_type": "stream",
     "text": [
      "Gap Opening = 2, Gap Extension = 2, Area Under ROC Curve = 0.654700\n"
     ]
    },
    {
     "data": {
      "image/png": "[encoded data removed]",
      "text/plain": [
       "<Figure size 432x288 with 1 Axes>"
      ]
     },
     "metadata": {
      "needs_background": "light"
     },
     "output_type": "display_data"
    }
   ],
   "source": [
    "gapOpening = 2\n",
    "gapExtension = 2\n",
    "allAlignmentScores = alignAllPosandNegSeqs(faFilePairs, scoringMatrixFile, gapOpening, gapExtension)\n",
    "plotROCCurve(allAlignmentScores, scoringMatrixFile, gapOpening, gapExtension)\n",
    "allTruePos, allFalsePos = calcPointsInROCCurve(allAlignmentScores)\n",
    "area = np.trapz(allTruePos, dx = 0.01)\n",
    "print('Gap Opening = %d, Gap Extension = %d, Area Under ROC Curve = %.6f' % (gapOpening, gapExtension, area))\n",
    "if area > maxAreaStats[0]:\n",
    "    maxAreaStats = area, gapOpening, gapExtension"
   ]
  },
  {
   "cell_type": "code",
   "execution_count": null,
   "metadata": {},
   "outputs": [],
   "source": [
    "gapOpening = 2\n",
    "gapExtension = 3\n",
    "allAlignmentScores = alignAllPosandNegSeqs(faFilePairs, scoringMatrixFile, gapOpening, gapExtension)\n",
    "plotROCCurve(allAlignmentScores, scoringMatrixFile, gapOpening, gapExtension)\n",
    "allTruePos, allFalsePos = calcPointsInROCCurve(allAlignmentScores)\n",
    "area = np.trapz(allTruePos, dx = 0.01)\n",
    "print('Gap Opening = %d, Gap Extension = %d, Area Under ROC Curve = %.6f' % (gapOpening, gapExtension, area))\n",
    "if area > maxAreaStats[0]:\n",
    "    maxAreaStats = area, gapOpening, gapExtension"
   ]
  },
  {
   "cell_type": "code",
   "execution_count": 36,
   "metadata": {},
   "outputs": [
    {
     "name": "stdout",
     "output_type": "stream",
     "text": [
      "Gap Opening = 2, Gap Extension = 4, Area Under ROC Curve = 0.654700\n"
     ]
    },
    {
     "data": {
      "image/png": "[encoded data removed]",
      "text/plain": [
       "<Figure size 432x288 with 1 Axes>"
      ]
     },
     "metadata": {
      "needs_background": "light"
     },
     "output_type": "display_data"
    }
   ],
   "source": [
    "gapOpening = 2\n",
    "gapExtension = 4\n",
    "allAlignmentScores = alignAllPosandNegSeqs(faFilePairs, scoringMatrixFile, gapOpening, gapExtension)\n",
    "plotROCCurve(allAlignmentScores, scoringMatrixFile, gapOpening, gapExtension)\n",
    "allTruePos, allFalsePos = calcPointsInROCCurve(allAlignmentScores)\n",
    "area = np.trapz(allTruePos, dx = 0.01)\n",
    "print('Gap Opening = %d, Gap Extension = %d, Area Under ROC Curve = %.6f' % (gapOpening, gapExtension, area))\n",
    "if area > maxAreaStats[0]:\n",
    "    maxAreaStats = area, gapOpening, gapExtension"
   ]
  },
  {
   "cell_type": "code",
   "execution_count": 37,
   "metadata": {},
   "outputs": [
    {
     "name": "stdout",
     "output_type": "stream",
     "text": [
      "Gap Opening = 5, Gap Extension = 1, Area Under ROC Curve = 0.355300\n"
     ]
    },
    {
     "data": {
      "image/png": "[encoded data removed]",
      "text/plain": [
       "<Figure size 432x288 with 1 Axes>"
      ]
     },
     "metadata": {
      "needs_background": "light"
     },
     "output_type": "display_data"
    }
   ],
   "source": [
    "gapOpening = 5\n",
    "gapExtension = 1\n",
    "allAlignmentScores = alignAllPosandNegSeqs(faFilePairs, scoringMatrixFile, gapOpening, gapExtension)\n",
    "plotROCCurve(allAlignmentScores, scoringMatrixFile, gapOpening, gapExtension)\n",
    "allTruePos, allFalsePos = calcPointsInROCCurve(allAlignmentScores)\n",
    "area = np.trapz(allTruePos, dx = 0.01)\n",
    "print('Gap Opening = %d, Gap Extension = %d, Area Under ROC Curve = %.6f' % (gapOpening, gapExtension, area))\n",
    "if area > maxAreaStats[0]:\n",
    "    maxAreaStats = area, gapOpening, gapExtension"
   ]
  },
  {
   "cell_type": "code",
   "execution_count": 40,
   "metadata": {},
   "outputs": [
    {
     "name": "stdout",
     "output_type": "stream",
     "text": [
      "Gap Opening = 11, Gap Extension = 3, Area Under ROC Curve = 0.120300\n"
     ]
    },
    {
     "data": {
      "image/png": "[encoded data removed]",
      "text/plain": [
       "<Figure size 432x288 with 1 Axes>"
      ]
     },
     "metadata": {
      "needs_background": "light"
     },
     "output_type": "display_data"
    }
   ],
   "source": [
    "gapOpening = 11\n",
    "gapExtension = 3\n",
    "allAlignmentScores = alignAllPosandNegSeqs(faFilePairs, scoringMatrixFile, gapOpening, gapExtension)\n",
    "plotROCCurve(allAlignmentScores, scoringMatrixFile, gapOpening, gapExtension)\n",
    "allTruePos, allFalsePos = calcPointsInROCCurve(allAlignmentScores)\n",
    "area = np.trapz(allTruePos, dx = 0.01)\n",
    "print('Gap Opening = %d, Gap Extension = %d, Area Under ROC Curve = %.6f' % (gapOpening, gapExtension, area))\n",
    "if area > maxAreaStats[0]:\n",
    "    maxAreaStats = area, gapOpening, gapExtension\n"
   ]
  },
  {
   "cell_type": "code",
   "execution_count": 43,
   "metadata": {},
   "outputs": [
    {
     "name": "stdout",
     "output_type": "stream",
     "text": [
      "[1.   1.   1.   1.   0.96 0.82 0.68 0.62 0.44 0.36 0.28 0.24 0.22 0.2\n",
      " 0.16 0.16 0.14 0.12 0.08 0.08 0.08 0.08 0.08 0.08 0.08 0.08 0.08 0.06\n",
      " 0.06 0.06 0.06 0.06 0.06 0.04 0.04 0.04 0.04 0.04 0.04 0.04 0.04 0.04\n",
      " 0.02 0.02 0.02 0.02 0.02 0.02 0.02 0.02 0.02 0.02 0.02 0.02 0.02 0.02\n",
      " 0.02 0.02 0.02 0.02 0.02 0.02 0.02 0.02 0.02 0.02 0.02 0.02 0.02 0.02\n",
      " 0.02 0.02 0.02 0.02 0.02 0.02 0.02 0.02 0.02 0.02 0.02 0.02 0.02 0.02\n",
      " 0.02 0.02 0.02 0.02 0.02 0.02 0.02 0.02 0.02 0.02 0.02 0.02 0.02 0.02\n",
      " 0.02 0.02 0.02 0.02 0.02 0.02 0.02 0.02 0.02 0.02 0.02 0.02 0.02 0.02\n",
      " 0.02 0.02 0.02 0.02 0.02 0.02 0.02 0.02 0.02 0.02 0.02 0.02 0.02 0.02\n",
      " 0.02]\n",
      "[1.   0.92 0.86 0.8  0.64 0.54 0.4  0.3  0.16 0.12 0.1  0.06 0.06 0.04\n",
      " 0.   0.   0.   0.   0.   0.   0.   0.   0.   0.   0.   0.   0.   0.\n",
      " 0.   0.   0.   0.   0.   0.   0.   0.   0.   0.   0.   0.   0.   0.\n",
      " 0.   0.   0.   0.   0.   0.   0.   0.   0.   0.   0.   0.   0.   0.\n",
      " 0.   0.   0.   0.   0.   0.   0.   0.   0.   0.   0.   0.   0.   0.\n",
      " 0.   0.   0.   0.   0.   0.   0.   0.   0.   0.   0.   0.   0.   0.\n",
      " 0.   0.   0.   0.   0.   0.   0.   0.   0.   0.   0.   0.   0.   0.\n",
      " 0.   0.   0.   0.   0.   0.   0.   0.   0.   0.   0.   0.   0.   0.\n",
      " 0.   0.   0.   0.   0.   0.   0.   0.   0.   0.   0.   0.   0.   0.\n",
      " 0.  ]\n"
     ]
    }
   ],
   "source": [
    "print(allTruePos)\n",
    "print(allFalsePos)"
   ]
  },
  {
   "cell_type": "code",
   "execution_count": 57,
   "metadata": {},
   "outputs": [
    {
     "name": "stdout",
     "output_type": "stream",
     "text": [
      "Gap Opening = 1, Gap Extension = 1, Area Under ROC Curve = 0.741800\n",
      "Gap Opening = 1, Gap Extension = 2, Area Under ROC Curve = 0.741800\n",
      "Gap Opening = 1, Gap Extension = 3, Area Under ROC Curve = 0.741800\n",
      "Gap Opening = 1, Gap Extension = 4, Area Under ROC Curve = 0.741800\n",
      "Gap Opening = 1, Gap Extension = 5, Area Under ROC Curve = 0.741800\n",
      "Gap Opening = 2, Gap Extension = 1, Area Under ROC Curve = 0.755400\n",
      "Gap Opening = 2, Gap Extension = 2, Area Under ROC Curve = 0.770000\n",
      "Gap Opening = 2, Gap Extension = 3, Area Under ROC Curve = 0.770000\n",
      "Gap Opening = 2, Gap Extension = 4, Area Under ROC Curve = 0.770000\n",
      "Gap Opening = 2, Gap Extension = 5, Area Under ROC Curve = 0.770000\n",
      "Gap Opening = 3, Gap Extension = 1, Area Under ROC Curve = 0.777800\n",
      "Gap Opening = 3, Gap Extension = 2, Area Under ROC Curve = 0.783000\n",
      "Gap Opening = 3, Gap Extension = 3, Area Under ROC Curve = 0.794800\n",
      "Gap Opening = 3, Gap Extension = 4, Area Under ROC Curve = 0.794800\n",
      "Gap Opening = 3, Gap Extension = 5, Area Under ROC Curve = 0.794800\n",
      "Gap Opening = 4, Gap Extension = 1, Area Under ROC Curve = 0.785600\n",
      "Gap Opening = 4, Gap Extension = 2, Area Under ROC Curve = 0.809600\n",
      "Gap Opening = 4, Gap Extension = 3, Area Under ROC Curve = 0.824600\n",
      "Gap Opening = 4, Gap Extension = 4, Area Under ROC Curve = 0.832800\n",
      "Gap Opening = 4, Gap Extension = 5, Area Under ROC Curve = 0.832800\n",
      "Gap Opening = 5, Gap Extension = 1, Area Under ROC Curve = 0.799000\n",
      "Gap Opening = 5, Gap Extension = 2, Area Under ROC Curve = 0.823600\n",
      "Gap Opening = 5, Gap Extension = 3, Area Under ROC Curve = 0.832200\n",
      "Gap Opening = 5, Gap Extension = 4, Area Under ROC Curve = 0.821600\n",
      "Gap Opening = 5, Gap Extension = 5, Area Under ROC Curve = 0.818800\n",
      "Gap Opening = 6, Gap Extension = 1, Area Under ROC Curve = 0.808800\n",
      "Gap Opening = 6, Gap Extension = 2, Area Under ROC Curve = 0.823600\n",
      "Gap Opening = 6, Gap Extension = 3, Area Under ROC Curve = 0.795400\n",
      "Gap Opening = 6, Gap Extension = 4, Area Under ROC Curve = 0.779800\n",
      "Gap Opening = 6, Gap Extension = 5, Area Under ROC Curve = 0.778400\n",
      "Gap Opening = 7, Gap Extension = 1, Area Under ROC Curve = 0.810400\n",
      "Gap Opening = 7, Gap Extension = 2, Area Under ROC Curve = 0.793000\n",
      "Gap Opening = 7, Gap Extension = 3, Area Under ROC Curve = 0.782000\n",
      "Gap Opening = 7, Gap Extension = 4, Area Under ROC Curve = 0.764400\n",
      "Gap Opening = 7, Gap Extension = 5, Area Under ROC Curve = 0.760800\n",
      "Gap Opening = 8, Gap Extension = 1, Area Under ROC Curve = 0.796200\n",
      "Gap Opening = 8, Gap Extension = 2, Area Under ROC Curve = 0.780000\n",
      "Gap Opening = 8, Gap Extension = 3, Area Under ROC Curve = 0.761800\n",
      "Gap Opening = 8, Gap Extension = 4, Area Under ROC Curve = 0.757200\n",
      "Gap Opening = 8, Gap Extension = 5, Area Under ROC Curve = 0.744200\n",
      "Gap Opening = 9, Gap Extension = 1, Area Under ROC Curve = 0.773200\n",
      "Gap Opening = 9, Gap Extension = 2, Area Under ROC Curve = 0.752400\n",
      "Gap Opening = 9, Gap Extension = 3, Area Under ROC Curve = 0.744600\n",
      "Gap Opening = 9, Gap Extension = 4, Area Under ROC Curve = 0.728800\n",
      "Gap Opening = 9, Gap Extension = 5, Area Under ROC Curve = 0.728000\n",
      "Gap Opening = 10, Gap Extension = 1, Area Under ROC Curve = 0.768200\n",
      "Gap Opening = 10, Gap Extension = 2, Area Under ROC Curve = 0.753200\n",
      "Gap Opening = 10, Gap Extension = 3, Area Under ROC Curve = 0.745800\n",
      "Gap Opening = 10, Gap Extension = 4, Area Under ROC Curve = 0.745400\n",
      "Gap Opening = 10, Gap Extension = 5, Area Under ROC Curve = 0.739800\n",
      "Gap Opening = 11, Gap Extension = 1, Area Under ROC Curve = 0.752600\n",
      "Gap Opening = 11, Gap Extension = 2, Area Under ROC Curve = 0.732000\n",
      "Gap Opening = 11, Gap Extension = 3, Area Under ROC Curve = 0.734200\n",
      "Gap Opening = 11, Gap Extension = 4, Area Under ROC Curve = 0.724800\n",
      "Gap Opening = 11, Gap Extension = 5, Area Under ROC Curve = 0.728000\n",
      "Gap Opening = 12, Gap Extension = 1, Area Under ROC Curve = 0.744000\n",
      "Gap Opening = 12, Gap Extension = 2, Area Under ROC Curve = 0.739800\n",
      "Gap Opening = 12, Gap Extension = 3, Area Under ROC Curve = 0.734400\n",
      "Gap Opening = 12, Gap Extension = 4, Area Under ROC Curve = 0.737200\n",
      "Gap Opening = 12, Gap Extension = 5, Area Under ROC Curve = 0.733000\n",
      "Gap Opening = 13, Gap Extension = 1, Area Under ROC Curve = 0.732600\n",
      "Gap Opening = 13, Gap Extension = 2, Area Under ROC Curve = 0.733800\n",
      "Gap Opening = 13, Gap Extension = 3, Area Under ROC Curve = 0.735600\n",
      "Gap Opening = 13, Gap Extension = 4, Area Under ROC Curve = 0.732600\n",
      "Gap Opening = 13, Gap Extension = 5, Area Under ROC Curve = 0.734600\n",
      "Gap Opening = 14, Gap Extension = 1, Area Under ROC Curve = 0.737800\n",
      "Gap Opening = 14, Gap Extension = 2, Area Under ROC Curve = 0.742200\n",
      "Gap Opening = 14, Gap Extension = 3, Area Under ROC Curve = 0.739800\n",
      "Gap Opening = 14, Gap Extension = 4, Area Under ROC Curve = 0.739400\n",
      "Gap Opening = 14, Gap Extension = 5, Area Under ROC Curve = 0.740800\n",
      "Gap Opening = 15, Gap Extension = 1, Area Under ROC Curve = 0.735400\n",
      "Gap Opening = 15, Gap Extension = 2, Area Under ROC Curve = 0.733600\n",
      "Gap Opening = 15, Gap Extension = 3, Area Under ROC Curve = 0.736200\n",
      "Gap Opening = 15, Gap Extension = 4, Area Under ROC Curve = 0.737600\n",
      "Gap Opening = 15, Gap Extension = 5, Area Under ROC Curve = 0.737600\n",
      "Gap Opening = 16, Gap Extension = 1, Area Under ROC Curve = 0.735200\n",
      "Gap Opening = 16, Gap Extension = 2, Area Under ROC Curve = 0.736000\n",
      "Gap Opening = 16, Gap Extension = 3, Area Under ROC Curve = 0.737400\n",
      "Gap Opening = 16, Gap Extension = 4, Area Under ROC Curve = 0.737400\n",
      "Gap Opening = 16, Gap Extension = 5, Area Under ROC Curve = 0.737000\n",
      "Gap Opening = 17, Gap Extension = 1, Area Under ROC Curve = 0.728600\n",
      "Gap Opening = 17, Gap Extension = 2, Area Under ROC Curve = 0.731200\n",
      "Gap Opening = 17, Gap Extension = 3, Area Under ROC Curve = 0.733400\n",
      "Gap Opening = 17, Gap Extension = 4, Area Under ROC Curve = 0.733000\n",
      "Gap Opening = 17, Gap Extension = 5, Area Under ROC Curve = 0.733000\n",
      "Gap Opening = 18, Gap Extension = 1, Area Under ROC Curve = 0.731000\n",
      "Gap Opening = 18, Gap Extension = 2, Area Under ROC Curve = 0.733200\n",
      "Gap Opening = 18, Gap Extension = 3, Area Under ROC Curve = 0.732800\n",
      "Gap Opening = 18, Gap Extension = 4, Area Under ROC Curve = 0.732800\n",
      "Gap Opening = 18, Gap Extension = 5, Area Under ROC Curve = 0.732200\n",
      "Gap Opening = 19, Gap Extension = 1, Area Under ROC Curve = 0.728400\n",
      "Gap Opening = 19, Gap Extension = 2, Area Under ROC Curve = 0.730200\n",
      "Gap Opening = 19, Gap Extension = 3, Area Under ROC Curve = 0.730200\n",
      "Gap Opening = 19, Gap Extension = 4, Area Under ROC Curve = 0.729600\n",
      "Gap Opening = 19, Gap Extension = 5, Area Under ROC Curve = 0.729600\n",
      "Gap Opening = 20, Gap Extension = 1, Area Under ROC Curve = 0.730200\n",
      "Gap Opening = 20, Gap Extension = 2, Area Under ROC Curve = 0.730200\n",
      "Gap Opening = 20, Gap Extension = 3, Area Under ROC Curve = 0.729600\n",
      "Gap Opening = 20, Gap Extension = 4, Area Under ROC Curve = 0.729600\n",
      "Gap Opening = 20, Gap Extension = 5, Area Under ROC Curve = 0.729400\n"
     ]
    }
   ],
   "source": [
    "####\n",
    "# Question 5\n",
    "####\n",
    "\n",
    "# Range of Gap Opening (1-20) and Extension (1-5) Penalties\n",
    "\n",
    "scoringMatrixFile = 'BLOSUM62.mat'\n",
    "\n",
    "maxAreaStats = (0,0,0) #area, opening, extension\n",
    "faFilePairs = readPosandNegFiles()\n",
    "for gapOpening in range(1,21):\n",
    "    for gapExtension in range(1,6):\n",
    "        allAlignmentScores = alignAllPosandNegSeqs(faFilePairs, scoringMatrixFile, gapOpening, gapExtension)\n",
    "        #plotROCCurve(allAlignmentScores, scoringMatrixFile, gapOpening, gapExtension)\n",
    "        allTruePos, allFalsePos = calcPointsInROCCurve(allAlignmentScores)\n",
    "        area = calcAreaUnderCurve(allTruePos, allFalsePos)\n",
    "        print('Gap Opening = %d, Gap Extension = %d, Area Under ROC Curve = %.6f' % (gapOpening, gapExtension, area))\n",
    "        if area > maxAreaStats[0]:\n",
    "            maxAreaStats = area, gapOpening, gapExtension"
   ]
  },
  {
   "cell_type": "code",
   "execution_count": 58,
   "metadata": {},
   "outputs": [
    {
     "name": "stdout",
     "output_type": "stream",
     "text": [
      "Max Area = 0.83280, Gap Opening = 4, Gap Extension = 4\n"
     ]
    }
   ],
   "source": [
    "print('Max Area = %.5f, Gap Opening = %d, Gap Extension = %d' % (maxAreaStats[0], maxAreaStats[1], maxAreaStats[2]))"
   ]
  },
  {
   "cell_type": "markdown",
   "metadata": {},
   "source": [
    "Question 5 Continued: The best performing gap penalty was: gap opening = 4, gap extension = 4.  Since the gap opening penalty is relatively low, it suggests that there was a high likelihood of insertions and deletions in the evolution of these sequences.  The gap extension penalty being equal to the gap opening penalty suggests that gap opening events do not make the insertion/deletion of proceeding nucleotides any more likely (which, with our understanding of insertions and deletions, does not make sense)."
   ]
  },
  {
   "cell_type": "code",
   "execution_count": 83,
   "metadata": {},
   "outputs": [
    {
     "name": "stdout",
     "output_type": "stream",
     "text": [
      "AUROC for BLOSUM50.mat = 0.83460\n",
      "AUROC for BLOSUM62.mat = 0.81660\n",
      "AUROC for PAM100.mat = 0.75740\n",
      "AUROC for PAM250.mat = 0.82820\n"
     ]
    },
    {
     "data": {
      "image/png": "[encoded data removed]",
      "text/plain": [
       "<Figure size 432x288 with 1 Axes>"
      ]
     },
     "metadata": {
      "needs_background": "light"
     },
     "output_type": "display_data"
    }
   ],
   "source": [
    "####\n",
    "# Question 6\n",
    "####\n",
    "\n",
    "gapOpening = 4\n",
    "gapExtension = 4\n",
    "\n",
    "scoringMatrices = ['BLOSUM50.mat','BLOSUM62.mat','PAM100.mat','PAM250.mat']\n",
    "\n",
    "\n",
    "for scoringMatrixFile in scoringMatrices:\n",
    "    allAlignmentScores = alignAllPosandNegSeqs(faFilePairs, scoringMatrixFile, gapOpening, gapExtension, isNW = True)\n",
    "    plotROCCurve(allAlignmentScores, scoringMatrixFile, gapOpening, gapExtension)\n",
    "    allTruePos, allFalsePos = calcPointsInROCCurve(allAlignmentScores)\n",
    "    area = calcAreaUnderCurve(allTruePos, allFalsePos)\n",
    "    print('AUROC for %s = %.5f' % (scoringMatrixFile, area))\n",
    "    "
   ]
  },
  {
   "cell_type": "code",
   "execution_count": null,
   "metadata": {},
   "outputs": [],
   "source": [
    "####\n",
    "# Question 6\n",
    "####\n",
    "\n",
    "gapOpening = 4\n",
    "gapExtension = 4\n",
    "\n",
    "scoringMatrices = ['BLOSUM50.mat','BLOSUM62.mat','PAM100.mat','PAM250.mat']\n",
    "\n",
    "\n",
    "for scoringMatrixFile in scoringMatrices:\n",
    "    allAlignmentScores = alignAllPosandNegSeqs(faFilePairs, scoringMatrixFile, gapOpening, gapExtension, isNW = True)\n",
    "    plotROCCurve(allAlignmentScores, scoringMatrixFile, gapOpening, gapExtension)\n",
    "    allTruePos, allFalsePos = calcPointsInROCCurve(allAlignmentScores)\n",
    "    area = calcAreaUnderCurve(allTruePos, allFalsePos)\n",
    "    print('AUROC for %s = %.5f' % (scoringMatrixFile, area))"
   ]
  },
  {
   "cell_type": "code",
   "execution_count": null,
   "metadata": {},
   "outputs": [],
   "source": []
  }
 ],
 "metadata": {
  "kernelspec": {
   "display_name": "Python 3",
   "language": "python",
   "name": "python3"
  }
 },
 "nbformat": 4,
 "nbformat_minor": 4
}
